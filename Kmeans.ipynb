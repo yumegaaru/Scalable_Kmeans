{
 "cells": [
  {
   "cell_type": "code",
   "execution_count": 1,
   "metadata": {},
   "outputs": [],
   "source": []
  },
  {
   "cell_type": "code",
   "execution_count": null,
   "metadata": {},
   "outputs": [],
   "source": [
    "import numpy as np\n",
    "import pandas as pd\n",
    "import scipy.spatial.distance as dist\n",
    "import collections "
   ]
  },
  {
   "cell_type": "markdown",
   "metadata": {},
   "source": [
    "# Kmeans"
   ]
  },
  {
   "cell_type": "code",
   "execution_count": 9,
   "metadata": {},
   "outputs": [],
   "source": [
    "def kmeans(data, k, centroids, max_iter=10000):\n",
    "    \n",
    "    for i in range(max_iter):\n",
    "        cdist = (dist.cdist(data, centroids))**2\n",
    "        labels = np.argmin(cdist, axis=1)\n",
    "        update_centroids = np.zeros(centroids.shape)\n",
    "        for j in range(k):\n",
    "            # check if the centroid is the closest to some data point\n",
    "            if sum(labels == j) != 0:\n",
    "                update_centroids[j] = np.mean(data[labels ==j], axis=0)\n",
    "            else:\n",
    "                # if not, leave the lone centroid unmoved\n",
    "                update_centroids[j] = centroids[j]\n",
    "                \n",
    "        if np.allclose(update_centroids, centroids):\n",
    "            print(\"Algorithm converged after\", i, \"iterations.\")\n",
    "            return centroids\n",
    "        else:\n",
    "            centroids = update_centroids\n",
    "        \n",
    "    print(\"Warning: maximum number of iterations reached. Failed to converge.\")\n",
    "    return centroids"
   ]
  },
  {
   "cell_type": "code",
   "execution_count": 10,
   "metadata": {},
   "outputs": [
    {
     "name": "stdout",
     "output_type": "stream",
     "text": [
      "Algorithm converged after 25 iterations.\n"
     ]
    }
   ],
   "source": [
    "def main():\n",
    "    k, n, d = 20, 1000, 15\n",
    "    \n",
    "    mean, cov = np.zeros(d), np.eye(d)\n",
    "    data = np.random.multivariate_normal(mean, cov, n)\n",
    "    #inrandom initial \n",
    "    initial_centers = np.random.multivariate_normal(mean, cov, k)\n",
    "    \n",
    "    centroids = kmeans(data, k, initial_centers)\n",
    "\n",
    "if __name__ == '__main__':\n",
    "    main()"
   ]
  },
  {
   "cell_type": "markdown",
   "metadata": {},
   "source": [
    "# Kmeans++"
   ]
  },
  {
   "cell_type": "code",
   "execution_count": 11,
   "metadata": {},
   "outputs": [],
   "source": [
    "def kmeans_pp(weights, data, k):\n",
    "    first_random = np.random.choice(data.shape[0], 1)\n",
    "    C = data[first_random, :]\n",
    "    \n",
    "    for i in range(k-1):\n",
    "        cdist = (dist.cdist(data, C))**2\n",
    "        cdist_min = np.min(cdist, axis = 1)* weights\n",
    "        prob = cdist_min/np.sum(cdist_min)\n",
    "        new_center = np.random.choice(data.shape[0],1, p=prob)\n",
    "        C = np.vstack([C, data[new_center,:]])\n",
    "        \n",
    "    return C"
   ]
  },
  {
   "cell_type": "code",
   "execution_count": 12,
   "metadata": {
    "scrolled": false
   },
   "outputs": [
    {
     "name": "stdout",
     "output_type": "stream",
     "text": [
      "Algorithm converged after 16 iterations.\n"
     ]
    }
   ],
   "source": [
    "def main():\n",
    "    k, n, d = 20, 1000, 15\n",
    "    \n",
    "    mean, cov = np.zeros(d), np.eye(d)\n",
    "    data = np.random.multivariate_normal(mean, cov, n)\n",
    "    #equal weights for kmenas++\n",
    "    initial_centers = kmeans_pp(1, data, 20)\n",
    "    \n",
    "    centroids = kmeans(data, k, initial_centers)\n",
    "\n",
    "if __name__ == '__main__':\n",
    "    main()"
   ]
  },
  {
   "cell_type": "markdown",
   "metadata": {},
   "source": [
    "# Kmeans_II"
   ]
  },
  {
   "cell_type": "code",
   "execution_count": 13,
   "metadata": {},
   "outputs": [],
   "source": [
    "def get_weight(C, data): \n",
    "    weights=np.zeros(C.shape[0])\n",
    "    cdist = (dist.cdist(data,C))**2\n",
    "    min_cdist = np.argmin(cdist, axis = 1)\n",
    "    count = collections.Counter(min_cdist) \n",
    "    weights = list(collections.OrderedDict(sorted(count.items(), key=lambda x: x[0])).values())\n",
    "    weights=np.array(weights)/sum(weights)\n",
    "    return weights"
   ]
  },
  {
   "cell_type": "code",
   "execution_count": null,
   "metadata": {},
   "outputs": [],
   "source": [
    "def kmeans_II(data, k, l, max_iter=10000):\n",
    "    first_random = np.random.choice(data.shape[0], 1)\n",
    "    C = data[first_random, :]\n",
    "    \n",
    "    cdist = (dist.cdist(data, C))**2\n",
    "    cdist_min = np.min(cdist, axis = 1)\n",
    "    cost_phi = np.sum(cdist_min)\n",
    "    \n",
    "    for i in range(int(round(np.log(cost_phi)))):\n",
    "        cdist = (dist.cdist(data, C))**2\n",
    "        cdist_min = np.min(cdist, axis = 1)\n",
    "        prob = cdist_min * l/np.sum(cdist_min)\n",
    "        for j in range(data.shape[0]):\n",
    "            if np.random.uniform() <= prob[j] and data[j,:] not in C:\n",
    "                C = np.vstack([C, data[j,:]])\n",
    "   \n",
    "    weights= get_weight(C, data)\n",
    "\n",
    "    return kmeans_pp(weights, C,k)\n",
    "    "
   ]
  },
  {
   "cell_type": "code",
   "execution_count": 15,
   "metadata": {},
   "outputs": [
    {
     "name": "stdout",
     "output_type": "stream",
     "text": [
      "Algorithm converged after 20 iterations.\n"
     ]
    }
   ],
   "source": [
    "def main():\n",
    "    k, n, d = 20, 1000, 15\n",
    "    \n",
    "    mean, cov = np.zeros(d), np.eye(d)\n",
    "    data = np.random.multivariate_normal(mean, cov, n)\n",
    "    #initial with weight \n",
    "    initial_centers = kmeans_II(data, 20, 10)\n",
    "    \n",
    "    centroids = kmeans(data, k, initial_centers)\n",
    "\n",
    "if __name__ == '__main__':\n",
    "    main()"
   ]
  }
 ],
 "metadata": {
  "kernelspec": {
   "display_name": "Python 3",
   "language": "python",
   "name": "python3"
  },
  "language_info": {
   "codemirror_mode": {
    "name": "ipython",
    "version": 3
   },
   "file_extension": ".py",
   "mimetype": "text/x-python",
   "name": "python",
   "nbconvert_exporter": "python",
   "pygments_lexer": "ipython3",
   "version": "3.6.4"
  }
 },
 "nbformat": 4,
 "nbformat_minor": 2
}
