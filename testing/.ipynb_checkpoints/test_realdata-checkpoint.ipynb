{
 "cells": [
  {
   "cell_type": "code",
   "execution_count": 2,
   "metadata": {},
   "outputs": [],
   "source": [
    "import numpy as np\n",
    "import pandas as pd\n",
    "import matplotlib.pyplot as plt\n",
    "import scipy.spatial.distance as dist\n",
    "import collections \n",
    "import time\n",
    "import warnings\n",
    "warnings.filterwarnings('ignore')\n",
    "\n",
    "from sklearn.cluster import KMeans\n",
    "\n",
    "from numba import jit, vectorize, float64, int64"
   ]
  },
  {
   "cell_type": "code",
   "execution_count": 3,
   "metadata": {},
   "outputs": [],
   "source": [
    "@jit \n",
    "\n",
    "def jit_kmeans_pp(data, k, weights):\n",
    "    first_random = np.random.choice(data.shape[0], 1)\n",
    "    C = data[first_random, :]\n",
    "    \n",
    "    for i in range(k-1):\n",
    "        cdist = (jit_distance(data, C))**2\n",
    "        cdist_min = np.min(cdist, axis = 1)* weights\n",
    "        prob = cdist_min/np.sum(cdist_min)\n",
    "        new_center = np.random.choice(data.shape[0],1, p=prob)\n",
    "        C = np.vstack([C, data[new_center,:]])\n",
    "        \n",
    "    return C\n"
   ]
  },
  {
   "cell_type": "code",
   "execution_count": 4,
   "metadata": {},
   "outputs": [],
   "source": [
    "@jit\n",
    "def jit_get_weight(C, data): \n",
    "    weights=np.zeros(C.shape[0])\n",
    "    cdist = (jit_distance(data,C))**2\n",
    "    min_cdist = np.argmin(cdist, axis = 1)\n",
    "    count = collections.Counter(min_cdist) \n",
    "    weights = list(collections.OrderedDict(sorted(count.items(), key=lambda x: x[0])).values())\n",
    "    weights=np.array(weights)/sum(weights)\n",
    "    return weights\n"
   ]
  },
  {
   "cell_type": "code",
   "execution_count": 5,
   "metadata": {},
   "outputs": [],
   "source": [
    "@jit\n",
    "def jit_kmeans_II(data, k, l, max_iter=10000):\n",
    "    first_random = np.random.choice(data.shape[0], 1)\n",
    "    C = data[first_random, :]\n",
    "    \n",
    "    cdist = (jit_distance(data, C))**2\n",
    "    cdist_min = np.min(cdist, axis = 1)\n",
    "    cost_phi = np.sum(cdist_min)\n",
    "    \n",
    "    for i in range(int(round(np.log(cost_phi)))):\n",
    "        cdist = (jit_distance(data, C))**2\n",
    "        cdist_min = np.min(cdist, axis = 1)\n",
    "        prob = cdist_min * l/np.sum(cdist_min)\n",
    "        for j in range(data.shape[0]):\n",
    "            if np.random.uniform() <= prob[j] and data[j,:] not in C:\n",
    "                C = np.vstack([C, data[j,:]])\n",
    "   \n",
    "    weights= get_weight(C, data)\n",
    "\n",
    "    return jit_kmeans_pp(C, k, weights)\n"
   ]
  },
  {
   "cell_type": "markdown",
   "metadata": {},
   "source": [
    "1st real world data: Housing data "
   ]
  },
  {
   "cell_type": "markdown",
   "metadata": {},
   "source": [
    "Reference :http://ichrome.com/blogs/archives/221"
   ]
  },
  {
   "cell_type": "code",
   "execution_count": 7,
   "metadata": {},
   "outputs": [],
   "source": [
    "housing = np.loadtxt(\"../data/housing.data.txt\")"
   ]
  },
  {
   "cell_type": "code",
   "execution_count": 8,
   "metadata": {},
   "outputs": [],
   "source": [
    "#the sixth column is average number of rooms per dwelling\n",
    "room = housing[:,5].reshape(-1,1)\n",
    "#the last column is Median value of owner-occupied homes in $1000's\n",
    "value = housing[:,-1].reshape(-1,1)"
   ]
  },
  {
   "cell_type": "code",
   "execution_count": 9,
   "metadata": {},
   "outputs": [],
   "source": [
    "data = housing[:,(5,-1)]"
   ]
  },
  {
   "cell_type": "code",
   "execution_count": 10,
   "metadata": {},
   "outputs": [],
   "source": [
    "def cdist_kmeans(data, k, centroids, max_iter=10000):\n",
    "    \n",
    "    for i in range(max_iter):\n",
    "        cdist = (dist.cdist(data, centroids))**2\n",
    "        labels = np.argmin(cdist, axis=1)\n",
    "        update_centroids = np.zeros(centroids.shape)\n",
    "        for j in range(k):\n",
    "            # check if the centroid is the closest to some data point\n",
    "            if sum(labels == j) != 0:\n",
    "                update_centroids[j] = np.mean(data[labels ==j], axis=0)\n",
    "            else:\n",
    "                # if not, leave the lone centroid unmoved\n",
    "                update_centroids[j] = centroids[j]\n",
    "                \n",
    "        if np.allclose(update_centroids, centroids):\n",
    "            print(\"Algorithm converged after\", i, \"iterations.\")\n",
    "            return ({\"Centroids\": centroids, \n",
    "                      \"Labels\": labels})\n",
    "        else:\n",
    "            centroids = update_centroids\n",
    "        \n",
    "    print(\"Warning: maximum number of iterations reached. Failed to converge.\")\n",
    "    return centroids"
   ]
  },
  {
   "cell_type": "code",
   "execution_count": 11,
   "metadata": {},
   "outputs": [],
   "source": [
    "def cdist_kmeans_pp(data, k, weights):\n",
    "    first_random = np.random.choice(data.shape[0], 1)\n",
    "    C = data[first_random, :]\n",
    "    \n",
    "    for i in range(k-1):\n",
    "        cdist = (dist.cdist(data, C))**2\n",
    "        cdist_min = np.min(cdist, axis = 1)* weights\n",
    "        prob = cdist_min/np.sum(cdist_min)\n",
    "        new_center = np.random.choice(data.shape[0],1, p=prob)\n",
    "        C = np.vstack([C, data[new_center,:]])\n",
    "        \n",
    "    return C"
   ]
  },
  {
   "cell_type": "code",
   "execution_count": 12,
   "metadata": {},
   "outputs": [],
   "source": [
    "def cdist_get_weight(C, data): \n",
    "    weights=np.zeros(C.shape[0])\n",
    "    cdist = (dist.cdist(data,C))**2\n",
    "    min_cdist = np.argmin(cdist, axis = 1)\n",
    "    count = collections.Counter(min_cdist) \n",
    "    weights = list(collections.OrderedDict(sorted(count.items(), key=lambda x: x[0])).values())\n",
    "    weights=np.array(weights)/sum(weights)\n",
    "    return weights"
   ]
  },
  {
   "cell_type": "code",
   "execution_count": 13,
   "metadata": {},
   "outputs": [],
   "source": [
    "def cdist_kmeans_II(data, k, l, max_iter=10000):\n",
    "    first_random = np.random.choice(data.shape[0], 1)\n",
    "    C = data[first_random, :]\n",
    "    \n",
    "    cdist = (dist.cdist(data, C))**2\n",
    "    cdist_min = np.min(cdist, axis = 1)\n",
    "    cost_phi = np.sum(cdist_min)\n",
    "    \n",
    "    for i in range(int(round(np.log(cost_phi)))):\n",
    "        cdist = (dist.cdist(data, C))**2\n",
    "        cdist_min = np.min(cdist, axis = 1)\n",
    "        prob = cdist_min * l/np.sum(cdist_min)\n",
    "        for j in range(data.shape[0]):\n",
    "            if np.random.uniform() <= prob[j] and data[j,:] not in C:\n",
    "                C = np.vstack([C, data[j,:]])\n",
    "   \n",
    "    weights= cdist_get_weight(C, data)\n",
    "\n",
    "    return cdist_kmeans_pp(C, k, weights)"
   ]
  },
  {
   "cell_type": "code",
   "execution_count": 14,
   "metadata": {},
   "outputs": [],
   "source": [
    "def navie_result(data, k, l):\n",
    "    \n",
    "    #find the initial center\n",
    "    c  = np.random.choice(np.arange(len(data)), k)\n",
    "    #base\n",
    "    c0 = np.empty([k, data.shape[1]])\n",
    "    c1 = data[c,:]\n",
    "    c2 = cdist_kmeans_pp(data, k, 1)\n",
    "    c3 = cdist_kmeans_II(data, k, l, max_iter = 10000)\n",
    "    \n",
    "    initial_centroid = np.array([c0, c1, c2, c3])\n",
    "    \n",
    "    \n",
    "    label = np.empty([data.shape[0]])\n",
    "    final_centroid = np.empty([k, data.shape[1]])\n",
    "    for i in np.arange(1, 4):#three algorithm\n",
    "        #kmeans_label = KMeans(n_clusters = k, init = initial_centroid[i], n_init = 1).fit_predict(data)\n",
    "        output = cdist_kmeans(data,k ,initial_centroid[i])\n",
    "        kmeans_label = output[\"Labels\"]\n",
    "        label = np.vstack([label, kmeans_label])\n",
    "        kmeans_centroid = output[\"Centroids\"]\n",
    "        final_centroid = np.dstack((final_centroid, kmeans_centroid))\n",
    "\n",
    "    \n",
    "    return {\"Initial_centroid\":initial_centroid, \"label\":label, \"Final_centroidtroid\" :final_centroid }"
   ]
  },
  {
   "cell_type": "code",
   "execution_count": 15,
   "metadata": {},
   "outputs": [
    {
     "name": "stdout",
     "output_type": "stream",
     "text": [
      "Algorithm converged after 7 iterations.\n",
      "Algorithm converged after 12 iterations.\n",
      "Algorithm converged after 6 iterations.\n"
     ]
    }
   ],
   "source": [
    "dict = navie_result(data, 5, 10)"
   ]
  },
  {
   "cell_type": "code",
   "execution_count": 16,
   "metadata": {},
   "outputs": [],
   "source": [
    "def test_cluster(ini_cen, fin_cen, label, data, title): \n",
    "    plt.scatter(data[:, 0], data[:, 1], c = label)\n",
    "    for i in range(np.unique(label).size):\n",
    "        if i > 0:\n",
    "            plt.scatter(ini_cen[i,0],ini_cen[i,1],marker = '+', c = 'red', s= 100)\n",
    "            plt.scatter(fin_cen[i,0],fin_cen[i,1],marker = '*', c = 'blue', s= 100)\n",
    "        else:\n",
    "            plt.scatter(ini_cen[i,0],ini_cen[i,1],marker = '+', c = 'red', s= 100, label = \"Initial Cluster\")\n",
    "            plt.scatter(fin_cen[i,0],fin_cen[i,1],marker = '*', c = 'blue', s= 100, label = \"Final Cluster\")\n",
    "    \n",
    "    plt.legend(loc='best', prop={'size':15})\n",
    "    plt.title(title)"
   ]
  },
  {
   "cell_type": "code",
   "execution_count": null,
   "metadata": {},
   "outputs": [],
   "source": [
    "title = [\"k-means\", \"k-means++\", \"k-means||\"]\n",
    "plt.figure(1, figsize=(20, 15))\n",
    "for i in np.arange(1, 4):\n",
    "    plt.subplot(220 + i)\n",
    "    test_cluster(dict['Initial_centroid'][i], dict['Final_centroidtroid'][:,:,i], dict['label'][i],data, title[i - 1])\n",
    "plt.show()"
   ]
  },
  {
   "cell_type": "markdown",
   "metadata": {},
   "source": [
    "2nd real world data: spam"
   ]
  },
  {
   "cell_type": "code",
   "execution_count": 80,
   "metadata": {},
   "outputs": [],
   "source": [
    "spam = pd.read_csv(\"data/spambase.data\", header=None)\n",
    "spam_np = np.asarray(spam)"
   ]
  },
  {
   "cell_type": "code",
   "execution_count": 87,
   "metadata": {},
   "outputs": [
    {
     "data": {
      "text/plain": [
       "[(57, 1.0), (46, 2.17), (10, 2.61), (42, 3.57), (50, 4.081)]"
      ]
     },
     "execution_count": 87,
     "metadata": {},
     "output_type": "execute_result"
    }
   ],
   "source": [
    "d = spam.apply(np.ptp, axis = 0).to_dict()\n",
    "sorted(d.items(), key = lambda x: x[1])[:5]"
   ]
  },
  {
   "cell_type": "code",
   "execution_count": 82,
   "metadata": {},
   "outputs": [
    {
     "name": "stdout",
     "output_type": "stream",
     "text": [
      "Algorithm converged after 31 iterations.\n",
      "Algorithm converged after 15 iterations.\n",
      "Algorithm converged after 37 iterations.\n"
     ]
    }
   ],
   "source": [
    "dict1 = navie_result(spam_np, 5, 10)"
   ]
  },
  {
   "cell_type": "code",
   "execution_count": 88,
   "metadata": {},
   "outputs": [],
   "source": [
    "def test_cluster(ini_cen, fin_cen, label, data, title): \n",
    "    plt.scatter(data[:, 10], data[:, 46], c = label)\n",
    "    for i in range(np.unique(label).size):\n",
    "        if i > 0:\n",
    "            plt.scatter(ini_cen[i,10],ini_cen[i,46],marker = '+', c = 'red', s= 100)\n",
    "            plt.scatter(fin_cen[i,10],fin_cen[i,46],marker = '*', c = 'blue', s= 100)\n",
    "        else:\n",
    "            plt.scatter(ini_cen[i,10],ini_cen[i,46],marker = '+', c = 'red', s= 100, label = \"Initial Cluster\")\n",
    "            plt.scatter(fin_cen[i,10],fin_cen[i,46],marker = '*', c = 'blue', s= 100, label = \"Final Cluster\")\n",
    "    \n",
    "    plt.legend(loc='best', prop={'size':15})\n",
    "    plt.title(title)"
   ]
  },
  {
   "cell_type": "code",
   "execution_count": 89,
   "metadata": {},
   "outputs": [
    {
     "data": {
      "image/png": "[encoded data removed]",
      "text/plain": [
       "<Figure size 1440x1080 with 3 Axes>"
      ]
     },
     "metadata": {},
     "output_type": "display_data"
    }
   ],
   "source": [
    "title = [\"k-means\", \"k-means++\", \"k-means||\"]\n",
    "plt.figure(1, figsize=(20, 15))\n",
    "for i in np.arange(1, 4):\n",
    "    plt.subplot(220 + i)\n",
    "    test_cluster(dict1['Initial_centroid'][i], dict1['Final_centroidtroid'][:,:,i], dict1['label'][i],spam_np, title[i - 1])\n",
    "plt.show()"
   ]
  },
  {
   "cell_type": "code",
   "execution_count": null,
   "metadata": {},
   "outputs": [],
   "source": []
  }
 ],
 "metadata": {
  "kernelspec": {
   "display_name": "Python 3",
   "language": "python",
   "name": "python3"
  },
  "language_info": {
   "codemirror_mode": {
    "name": "ipython",
    "version": 3
   },
   "file_extension": ".py",
   "mimetype": "text/x-python",
   "name": "python",
   "nbconvert_exporter": "python",
   "pygments_lexer": "ipython3",
   "version": "3.6.4"
  }
 },
 "nbformat": 4,
 "nbformat_minor": 2
}
